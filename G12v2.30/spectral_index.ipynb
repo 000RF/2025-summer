{
 "cells": [
  {
   "cell_type": "code",
   "execution_count": 9,
   "id": "2e121731",
   "metadata": {},
   "outputs": [],
   "source": [
    "import numpy as np\n",
    "import matplotlib.pyplot as plt"
   ]
  },
  {
   "cell_type": "code",
   "execution_count": 10,
   "id": "f411833d",
   "metadata": {},
   "outputs": [
    {
     "data": {
      "text/plain": [
       "'#component 1\\n\\n#頻率與flux數據\\nfreq = np.array([8.93228e10, 9.13052e10, 1.01399e11, 1.03298e11])  # Hz\\nflux = np.array([3.7e-5, 1.24e-4, 2.67e-4, 1.94e-4])  # Jy\\n\\n#log-log\\nlog_freq = np.log10(freq)\\nlog_flux = np.log10(flux)\\n\\n#線性擬合：y=αx+c\\ncoeffs = np.polyfit(log_freq, log_flux, 1)\\nalpha = coeffs[0]\\n\\n\\nplt.figure(figsize=(6,4))\\nplt.plot(log_freq, log_flux, \\'o\\', label=\\'data points\\')\\nplt.plot(log_freq, np.polyval(coeffs, log_freq), \\'-\\', label=f\\'Fit: α = {alpha:.2f}\\')\\nplt.xlabel(\\'log(Frequency [Hz])\\')\\nplt.ylabel(\\'log(Flux [Jy])\\')\\nplt.title(\\'Spectral Index Fit (name)\\')\\nplt.grid(True, which=\\'both\\', ls=\\'-\\', alpha=0.2)\\nplt.legend()\\nplt.tight_layout()\\nplt.show()\\n\\nprint(f\"Spectral index α ≈ {alpha:.2f}\")\\n'"
      ]
     },
     "execution_count": 10,
     "metadata": {},
     "output_type": "execute_result"
    }
   ],
   "source": [
    "'''#component 1\n",
    "\n",
    "#頻率與flux數據\n",
    "freq = np.array([8.93228e10, 9.13052e10, 1.01399e11, 1.03298e11])  # Hz\n",
    "flux = np.array([3.7e-5, 1.24e-4, 2.67e-4, 1.94e-4])  # Jy\n",
    "\n",
    "#log-log\n",
    "log_freq = np.log10(freq)\n",
    "log_flux = np.log10(flux)\n",
    "\n",
    "#線性擬合：y=αx+c\n",
    "coeffs = np.polyfit(log_freq, log_flux, 1)\n",
    "alpha = coeffs[0]\n",
    "\n",
    "\n",
    "plt.figure(figsize=(6,4))\n",
    "plt.plot(log_freq, log_flux, 'o', label='data points')\n",
    "plt.plot(log_freq, np.polyval(coeffs, log_freq), '-', label=f'Fit: α = {alpha:.2f}')\n",
    "plt.xlabel('log(Frequency [Hz])')\n",
    "plt.ylabel('log(Flux [Jy])')\n",
    "plt.title('Spectral Index Fit (name)')\n",
    "plt.grid(True, which='both', ls='-', alpha=0.2)\n",
    "plt.legend()\n",
    "plt.tight_layout()\n",
    "plt.show()\n",
    "\n",
    "print(f\"Spectral index α ≈ {alpha:.2f}\")\n",
    "'''"
   ]
  },
  {
   "cell_type": "code",
   "execution_count": 11,
   "id": "fb0033ef",
   "metadata": {},
   "outputs": [
    {
     "data": {
      "text/plain": [
       "'#component 2\\n\\n#頻率與flux數據\\nfreq = np.array([8.93228e10, 9.13052e10, 1.01399e11, 1.03298e11])  # Hz\\nflux = np.array([2.7e-5, 3.1e-5, 2.53e-4, 5.6e-5])  # Jy\\n\\n#log-log\\nlog_freq = np.log10(freq)\\nlog_flux = np.log10(flux)\\n\\n#線性擬合：y=αx+c\\ncoeffs = np.polyfit(log_freq, log_flux, 1)\\nalpha = coeffs[0]\\n\\n\\nplt.figure(figsize=(6,4))\\nplt.plot(log_freq, log_flux, \\'o\\', label=\\'data points\\')\\nplt.plot(log_freq, np.polyval(coeffs, log_freq), \\'-\\', label=f\\'Fit: α = {alpha:.2f}\\')\\nplt.xlabel(\\'log(Frequency [Hz])\\')\\nplt.ylabel(\\'log(Flux [Jy])\\')\\nplt.title(\\'Spectral Index Fit (name)\\')\\nplt.grid(True, which=\\'both\\', ls=\\'-\\', alpha=0.2)\\nplt.legend()\\nplt.tight_layout()\\nplt.show()\\n\\nprint(f\"Spectral index α ≈ {alpha:.2f}\")\\n'"
      ]
     },
     "execution_count": 11,
     "metadata": {},
     "output_type": "execute_result"
    }
   ],
   "source": [
    "'''#component 2\n",
    "\n",
    "#頻率與flux數據\n",
    "freq = np.array([8.93228e10, 9.13052e10, 1.01399e11, 1.03298e11])  # Hz\n",
    "flux = np.array([2.7e-5, 3.1e-5, 2.53e-4, 5.6e-5])  # Jy\n",
    "\n",
    "#log-log\n",
    "log_freq = np.log10(freq)\n",
    "log_flux = np.log10(flux)\n",
    "\n",
    "#線性擬合：y=αx+c\n",
    "coeffs = np.polyfit(log_freq, log_flux, 1)\n",
    "alpha = coeffs[0]\n",
    "\n",
    "\n",
    "plt.figure(figsize=(6,4))\n",
    "plt.plot(log_freq, log_flux, 'o', label='data points')\n",
    "plt.plot(log_freq, np.polyval(coeffs, log_freq), '-', label=f'Fit: α = {alpha:.2f}')\n",
    "plt.xlabel('log(Frequency [Hz])')\n",
    "plt.ylabel('log(Flux [Jy])')\n",
    "plt.title('Spectral Index Fit (name)')\n",
    "plt.grid(True, which='both', ls='-', alpha=0.2)\n",
    "plt.legend()\n",
    "plt.tight_layout()\n",
    "plt.show()\n",
    "\n",
    "print(f\"Spectral index α ≈ {alpha:.2f}\")\n",
    "'''"
   ]
  },
  {
   "cell_type": "code",
   "execution_count": 12,
   "id": "3f59adeb",
   "metadata": {},
   "outputs": [
    {
     "data": {
      "text/plain": [
       "'#component 3\\n\\n#頻率與flux數據\\nfreq = np.array([8.93228e10, 9.13052e10, 1.01399e11, 1.03298e11])  # Hz\\nflux = np.array([9.6e-5, 2.37e-4, 1.067e-3, 2e-6])  # Jy\\n\\n#log-log\\nlog_freq = np.log10(freq)\\nlog_flux = np.log10(flux)\\n\\n#線性擬合：y=αx+c\\ncoeffs = np.polyfit(log_freq, log_flux, 1)\\nalpha = coeffs[0]\\n\\n\\nplt.figure(figsize=(6,4))\\nplt.plot(log_freq, log_flux, \\'o\\', label=\\'data points\\')\\nplt.plot(log_freq, np.polyval(coeffs, log_freq), \\'-\\', label=f\\'Fit: α = {alpha:.2f}\\')\\nplt.xlabel(\\'log(Frequency [Hz])\\')\\nplt.ylabel(\\'log(Flux [Jy])\\')\\nplt.title(\\'Spectral Index Fit (name)\\')\\nplt.grid(True, which=\\'both\\', ls=\\'-\\', alpha=0.2)\\nplt.legend()\\nplt.tight_layout()\\nplt.show()\\n\\nprint(f\"Spectral index α ≈ {alpha:.2f}\")\\n'"
      ]
     },
     "execution_count": 12,
     "metadata": {},
     "output_type": "execute_result"
    }
   ],
   "source": [
    "'''#component 3\n",
    "\n",
    "#頻率與flux數據\n",
    "freq = np.array([8.93228e10, 9.13052e10, 1.01399e11, 1.03298e11])  # Hz\n",
    "flux = np.array([9.6e-5, 2.37e-4, 1.067e-3, 2e-6])  # Jy\n",
    "\n",
    "#log-log\n",
    "log_freq = np.log10(freq)\n",
    "log_flux = np.log10(flux)\n",
    "\n",
    "#線性擬合：y=αx+c\n",
    "coeffs = np.polyfit(log_freq, log_flux, 1)\n",
    "alpha = coeffs[0]\n",
    "\n",
    "\n",
    "plt.figure(figsize=(6,4))\n",
    "plt.plot(log_freq, log_flux, 'o', label='data points')\n",
    "plt.plot(log_freq, np.polyval(coeffs, log_freq), '-', label=f'Fit: α = {alpha:.2f}')\n",
    "plt.xlabel('log(Frequency [Hz])')\n",
    "plt.ylabel('log(Flux [Jy])')\n",
    "plt.title('Spectral Index Fit (name)')\n",
    "plt.grid(True, which='both', ls='-', alpha=0.2)\n",
    "plt.legend()\n",
    "plt.tight_layout()\n",
    "plt.show()\n",
    "\n",
    "print(f\"Spectral index α ≈ {alpha:.2f}\")\n",
    "'''"
   ]
  },
  {
   "cell_type": "code",
   "execution_count": 13,
   "id": "e7585834",
   "metadata": {},
   "outputs": [
    {
     "data": {
      "text/plain": [
       "'#component 4\\n\\n#頻率與flux數據\\nfreq = np.array([8.93228e10, 9.13052e10, 1.01399e11, 1.03298e11])  # Hz\\nflux = np.array([2.22e-4, 3.06e-4, 9.9e-5, 2.75e-4])  # Jy\\n\\n#log-log\\nlog_freq = np.log10(freq)\\nlog_flux = np.log10(flux)\\n\\n#線性擬合：y=αx+c\\ncoeffs = np.polyfit(log_freq, log_flux, 1)\\nalpha = coeffs[0]\\n\\n\\nplt.figure(figsize=(6,4))\\nplt.plot(log_freq, log_flux, \\'o\\', label=\\'data points\\')\\nplt.plot(log_freq, np.polyval(coeffs, log_freq), \\'-\\', label=f\\'Fit: α = {alpha:.2f}\\')\\nplt.xlabel(\\'log(Frequency [Hz])\\')\\nplt.ylabel(\\'log(Flux [Jy])\\')\\nplt.title(\\'Spectral Index Fit (name)\\')\\nplt.grid(True, which=\\'both\\', ls=\\'-\\', alpha=0.2)\\nplt.legend()\\nplt.tight_layout()\\nplt.show()\\n\\nprint(f\"Spectral index α ≈ {alpha:.2f}\")\\n'"
      ]
     },
     "execution_count": 13,
     "metadata": {},
     "output_type": "execute_result"
    }
   ],
   "source": [
    "'''#component 4\n",
    "\n",
    "#頻率與flux數據\n",
    "freq = np.array([8.93228e10, 9.13052e10, 1.01399e11, 1.03298e11])  # Hz\n",
    "flux = np.array([2.22e-4, 3.06e-4, 9.9e-5, 2.75e-4])  # Jy\n",
    "\n",
    "#log-log\n",
    "log_freq = np.log10(freq)\n",
    "log_flux = np.log10(flux)\n",
    "\n",
    "#線性擬合：y=αx+c\n",
    "coeffs = np.polyfit(log_freq, log_flux, 1)\n",
    "alpha = coeffs[0]\n",
    "\n",
    "\n",
    "plt.figure(figsize=(6,4))\n",
    "plt.plot(log_freq, log_flux, 'o', label='data points')\n",
    "plt.plot(log_freq, np.polyval(coeffs, log_freq), '-', label=f'Fit: α = {alpha:.2f}')\n",
    "plt.xlabel('log(Frequency [Hz])')\n",
    "plt.ylabel('log(Flux [Jy])')\n",
    "plt.title('Spectral Index Fit (name)')\n",
    "plt.grid(True, which='both', ls='-', alpha=0.2)\n",
    "plt.legend()\n",
    "plt.tight_layout()\n",
    "plt.show()\n",
    "\n",
    "print(f\"Spectral index α ≈ {alpha:.2f}\")\n",
    "'''"
   ]
  },
  {
   "cell_type": "code",
   "execution_count": 14,
   "id": "1e154eeb",
   "metadata": {},
   "outputs": [
    {
     "data": {
      "text/plain": [
       "'#component 5\\n\\n#頻率與flux數據\\nfreq = np.array([8.93228e10, 9.13052e10, 1.01399e11, 1.03298e11])  # Hz\\nflux = np.array([1.9e-4, 1.94e-4, 1.24e-4, 6.46e-4])  # Jy\\n\\n#log-log\\nlog_freq = np.log10(freq)\\nlog_flux = np.log10(flux)\\n\\n#線性擬合：y=αx+c\\ncoeffs = np.polyfit(log_freq, log_flux, 1)\\nalpha = coeffs[0]\\n\\n\\nplt.figure(figsize=(6,4))\\nplt.plot(log_freq, log_flux, \\'o\\', label=\\'data points\\')\\nplt.plot(log_freq, np.polyval(coeffs, log_freq), \\'-\\', label=f\\'Fit: α = {alpha:.2f}\\')\\nplt.xlabel(\\'log(Frequency [Hz])\\')\\nplt.ylabel(\\'log(Flux [Jy])\\')\\nplt.title(\\'Spectral Index Fit (name)\\')\\nplt.grid(True, which=\\'both\\', ls=\\'-\\', alpha=0.2)\\nplt.legend()\\nplt.tight_layout()\\nplt.show()\\n\\nprint(f\"Spectral index α ≈ {alpha:.2f}\")\\n'"
      ]
     },
     "execution_count": 14,
     "metadata": {},
     "output_type": "execute_result"
    }
   ],
   "source": [
    "'''#component 5\n",
    "\n",
    "#頻率與flux數據\n",
    "freq = np.array([8.93228e10, 9.13052e10, 1.01399e11, 1.03298e11])  # Hz\n",
    "flux = np.array([1.9e-4, 1.94e-4, 1.24e-4, 6.46e-4])  # Jy\n",
    "\n",
    "#log-log\n",
    "log_freq = np.log10(freq)\n",
    "log_flux = np.log10(flux)\n",
    "\n",
    "#線性擬合：y=αx+c\n",
    "coeffs = np.polyfit(log_freq, log_flux, 1)\n",
    "alpha = coeffs[0]\n",
    "\n",
    "\n",
    "plt.figure(figsize=(6,4))\n",
    "plt.plot(log_freq, log_flux, 'o', label='data points')\n",
    "plt.plot(log_freq, np.polyval(coeffs, log_freq), '-', label=f'Fit: α = {alpha:.2f}')\n",
    "plt.xlabel('log(Frequency [Hz])')\n",
    "plt.ylabel('log(Flux [Jy])')\n",
    "plt.title('Spectral Index Fit (name)')\n",
    "plt.grid(True, which='both', ls='-', alpha=0.2)\n",
    "plt.legend()\n",
    "plt.tight_layout()\n",
    "plt.show()\n",
    "\n",
    "print(f\"Spectral index α ≈ {alpha:.2f}\")\n",
    "'''"
   ]
  },
  {
   "cell_type": "code",
   "execution_count": 15,
   "id": "365f375d",
   "metadata": {},
   "outputs": [
    {
     "data": {
      "image/png": "[encoded data removed]",
      "text/plain": [
       "<Figure size 600x400 with 1 Axes>"
      ]
     },
     "metadata": {},
     "output_type": "display_data"
    },
    {
     "name": "stdout",
     "output_type": "stream",
     "text": [
      "Spectral index α ≈ 5.62\n"
     ]
    }
   ],
   "source": [
    "#all\n",
    "\n",
    "#頻率與flux數據\n",
    "freq = np.array([8.93228e10, 9.13052e10, 1.01399e11, 1.03298e11])  # Hz\n",
    "flux = np.array([5.72e-4, 8.92e-4, 18.1e-4, 11.77e-4])  # Jy\n",
    "\n",
    "#log-log\n",
    "log_freq = np.log10(freq)\n",
    "log_flux = np.log10(flux)\n",
    "\n",
    "#線性擬合：y=αx+c\n",
    "coeffs = np.polyfit(log_freq, log_flux, 1)\n",
    "alpha = coeffs[0]\n",
    "\n",
    "\n",
    "plt.figure(figsize=(6,4))\n",
    "plt.plot(log_freq, log_flux, 'o', label='data points')\n",
    "plt.plot(log_freq, np.polyval(coeffs, log_freq), '-', label=f'Fit: α = {alpha:.2f}')\n",
    "plt.xlabel('log(Frequency [Hz])')\n",
    "plt.ylabel('log(Flux [Jy])')\n",
    "plt.title('Spectral Index Fit (name)')\n",
    "plt.grid(True, which='both', ls='-', alpha=0.2)\n",
    "plt.legend()\n",
    "plt.tight_layout()\n",
    "plt.show()\n",
    "\n",
    "print(f\"Spectral index α ≈ {alpha:.2f}\")\n"
   ]
  }
 ],
 "metadata": {
  "kernelspec": {
   "display_name": "Python 3",
   "language": "python",
   "name": "python3"
  },
  "language_info": {
   "codemirror_mode": {
    "name": "ipython",
    "version": 3
   },
   "file_extension": ".py",
   "mimetype": "text/x-python",
   "name": "python",
   "nbconvert_exporter": "python",
   "pygments_lexer": "ipython3",
   "version": "3.13.5"
  }
 },
 "nbformat": 4,
 "nbformat_minor": 5
}
