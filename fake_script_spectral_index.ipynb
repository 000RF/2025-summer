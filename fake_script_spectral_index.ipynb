{
 "cells": [
  {
   "cell_type": "code",
   "execution_count": 1,
   "id": "2e121731",
   "metadata": {},
   "outputs": [],
   "source": [
    "import numpy as np\n",
    "import matplotlib.pyplot as plt"
   ]
  },
  {
   "cell_type": "code",
   "execution_count": 2,
   "id": "1d73b120",
   "metadata": {},
   "outputs": [
    {
     "ename": "SyntaxError",
     "evalue": "invalid syntax (3204504805.py, line 2)",
     "output_type": "error",
     "traceback": [
      "  \u001b[36mCell\u001b[39m\u001b[36m \u001b[39m\u001b[32mIn[2]\u001b[39m\u001b[32m, line 2\u001b[39m\n\u001b[31m    \u001b[39m\u001b[31mfreq = np.array([, , , ])  # Hz\u001b[39m\n                     ^\n\u001b[31mSyntaxError\u001b[39m\u001b[31m:\u001b[39m invalid syntax\n"
     ]
    }
   ],
   "source": [
    "#頻率與flux數據\n",
    "freq = np.array([, , , ])  # Hz\n",
    "flux = np.array([, , , ])  # Jy\n",
    "\n",
    "#log-log\n",
    "log_freq = np.log10(freq)\n",
    "log_flux = np.log10(flux)\n",
    "\n",
    "#線性擬合：y=αx+c\n",
    "coeffs = np.polyfit(log_freq, log_flux, 1)\n",
    "alpha = coeffs[0]\n",
    "\n",
    "\n",
    "plt.figure(figsize=(6,4))\n",
    "plt.plot(log_freq, log_flux, 'o', label='data points')\n",
    "plt.plot(log_freq, np.polyval(coeffs, log_freq), '-', label=f'Fit: α = {alpha:.2f}')\n",
    "plt.xlabel('log(Frequency [Hz])')\n",
    "plt.ylabel('log(Flux [Jy])')\n",
    "plt.title('Spectral Index Fit(Cloverleaf)')\n",
    "plt.grid(True, which='both', ls='-', alpha=0.2)\n",
    "plt.legend()\n",
    "plt.tight_layout()\n",
    "plt.show()\n",
    "\n",
    "print(f\"Spectral index α ≈ {alpha:.2f}\")\n"
   ]
  }
 ],
 "metadata": {
  "kernelspec": {
   "display_name": "Python 3",
   "language": "python",
   "name": "python3"
  },
  "language_info": {
   "codemirror_mode": {
    "name": "ipython",
    "version": 3
   },
   "file_extension": ".py",
   "mimetype": "text/x-python",
   "name": "python",
   "nbconvert_exporter": "python",
   "pygments_lexer": "ipython3",
   "version": "3.13.5"
  }
 },
 "nbformat": 4,
 "nbformat_minor": 5
}
